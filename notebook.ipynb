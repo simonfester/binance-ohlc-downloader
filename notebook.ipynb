{
 "cells": [
  {
   "cell_type": "markdown",
   "metadata": {},
   "source": [
    "ta library testing - pulls all ohlc data from binance and runs all indicators!\n",
    "\n",
    "1) Downloads 1d OHLC data from Binance 2018-2021\n",
    "2) Loads into a Dataframe\n",
    "3) Adds all indicators\n",
    "4) Cleans up and exports a CSV\n",
    "\n",
    "\n",
    "https://github.com/binance/binance-public-data/\n",
    "https://technical-analysis-library-in-python.readthedocs.io/en/latest/\n"
   ]
  },
  {
   "cell_type": "code",
   "execution_count": 1,
   "metadata": {},
   "outputs": [],
   "source": [
    "import pandas as pd\n",
    "import functools\n",
    "from pathlib import Path\n",
    "import os.path\n",
    "import glob\n",
    "import os\n",
    "from ta import add_all_ta_features"
   ]
  },
  {
   "cell_type": "code",
   "execution_count": 2,
   "metadata": {},
   "outputs": [
    {
     "name": "stdout",
     "output_type": "stream",
     "text": [
      "Defaulting to user installation because normal site-packages is not writeable\n",
      "Requirement already satisfied: ta in /home/ec2-user/.local/lib/python3.7/site-packages (0.9.0)\n",
      "Requirement already satisfied: pandas in /home/ec2-user/.local/lib/python3.7/site-packages (1.3.2)\n",
      "Requirement already satisfied: numpy in /home/ec2-user/.local/lib/python3.7/site-packages (from ta) (1.21.2)\n",
      "Requirement already satisfied: python-dateutil>=2.7.3 in /usr/local/lib/python3.7/site-packages (from pandas) (2.8.1)\n",
      "Requirement already satisfied: pytz>=2017.3 in /usr/local/lib/python3.7/site-packages (from pandas) (2021.1)\n",
      "Requirement already satisfied: six>=1.5 in /usr/local/lib/python3.7/site-packages (from python-dateutil>=2.7.3->pandas) (1.16.0)\n"
     ]
    },
    {
     "data": {
      "text/plain": [
       "0"
      ]
     },
     "execution_count": 2,
     "metadata": {},
     "output_type": "execute_result"
    }
   ],
   "source": [
    "#install if needed\n",
    "os.system('pip3 install ta pandas')"
   ]
  },
  {
   "cell_type": "code",
   "execution_count": 3,
   "metadata": {},
   "outputs": [],
   "source": [
    "# define our years and months\n",
    "year = ['2018','2019','2020','2021']\n",
    "month = ['01','02','03','04','05','06','07','08','09','10','11','12']\n",
    "df_column_names = ['Open Time','Open','High','Low','Close','Volume']\n",
    "df=pd.DataFrame()\n",
    "file = Path('BTCUSDT-1d-2018-2021.csv')"
   ]
  },
  {
   "cell_type": "code",
   "execution_count": 4,
   "metadata": {},
   "outputs": [
    {
     "name": "stderr",
     "output_type": "stream",
     "text": [
      "/home/ec2-user/.local/lib/python3.7/site-packages/ta/trend.py:769: RuntimeWarning: invalid value encountered in double_scalars\n",
      "  dip[idx] = 100 * (self._dip[idx] / value)\n",
      "/home/ec2-user/.local/lib/python3.7/site-packages/ta/trend.py:774: RuntimeWarning: invalid value encountered in double_scalars\n",
      "  din[idx] = 100 * (self._din[idx] / value)\n"
     ]
    }
   ],
   "source": [
    "# download, unzip, and then load into df\n",
    "if not file.is_file():   \n",
    "    \n",
    "    for x in year:\n",
    "        for y in month:\n",
    "           filename='BTCUSDT-1d-'+x+'-'+y\n",
    "           os.system('wget -nc -q \"https://data.binance.vision/data/spot/monthly/klines/BTCUSDT/1d/'+filename+'.zip\"')\n",
    "           os.system('unzip -n -q '+filename+'.zip')\n",
    "           df = pd.concat(map(functools.partial(pd.read_csv,header=None), glob.glob(\"*.csv\")))\n",
    "           \n",
    "    # clean up\n",
    "    os.system('rm -f *.csv *.zip')\n",
    "\n",
    "    #drop columns we don't need\n",
    "    df.drop(df.columns[[6,7,8,9,10,11]], axis=1, inplace=True)\n",
    "\n",
    "    # label the columns so ta can find them\n",
    "    df.columns=['Open Time','Open','High','Low','Close','Volume']\n",
    "\n",
    "    # Add ta features filling NaN values\n",
    "    df1 = add_all_ta_features(df, open=\"Open\", high=\"High\", low=\"Low\", close=\"Close\", volume=\"Volume\", fillna=True)\n",
    "\n",
    "    # write csv file out:\n",
    "    df1.to_csv(\"BTCUSDT-1d-2018-2021.csv\")"
   ]
  }
 ],
 "metadata": {
  "interpreter": {
   "hash": "916dbcbb3f70747c44a77c7bcd40155683ae19c65e1c03b4aa3499c5328201f1"
  },
  "kernelspec": {
   "display_name": "Python 3.7.10 64-bit",
   "language": "python",
   "name": "python3"
  },
  "language_info": {
   "codemirror_mode": {
    "name": "ipython",
    "version": 3
   },
   "file_extension": ".py",
   "mimetype": "text/x-python",
   "name": "python",
   "nbconvert_exporter": "python",
   "pygments_lexer": "ipython3",
   "version": "3.7.10"
  },
  "orig_nbformat": 4
 },
 "nbformat": 4,
 "nbformat_minor": 2
}
