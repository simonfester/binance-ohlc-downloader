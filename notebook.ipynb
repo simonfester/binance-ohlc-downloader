{
 "cells": [
  {
   "attachments": {},
   "cell_type": "markdown",
   "metadata": {},
   "source": [
    "ta library testing - pulls all ohlc data from binance and runs all indicators!\n",
    "\n",
    "1) Downloads 1d OHLC data from Binance 2018-2023\n",
    "2) Loads into a Dataframe\n",
    "3) Adds all indicators\n",
    "4) Cleans up and exports a CSV\n",
    "\n",
    "\n",
    "https://github.com/binance/binance-public-data/\n",
    "\n",
    "https://technical-analysis-library-in-python.readthedocs.io/en/latest/\n"
   ]
  },
  {
   "cell_type": "code",
   "execution_count": 5,
   "metadata": {},
   "outputs": [],
   "source": [
    "import pandas as pd\n",
    "import functools\n",
    "from pathlib import Path\n",
    "import os.path\n",
    "import glob\n",
    "import os\n",
    "import btalib"
   ]
  },
  {
   "cell_type": "code",
   "execution_count": 6,
   "metadata": {},
   "outputs": [],
   "source": [
    "#install if needed\n",
    "# os.system('pip3 install bta-lib pandas')"
   ]
  },
  {
   "cell_type": "code",
   "execution_count": 7,
   "metadata": {},
   "outputs": [],
   "source": [
    "# define our years and months\n",
    "year = ['2018','2019','2020','2021','2022','2023']\n",
    "month = ['01','02','03','04','05','06','07','08','09','10','11','12']\n",
    "df_column_names = ['Date','Open','High','Low','Close','Volume']\n",
    "df=pd.DataFrame()\n",
    "file = Path('BTCUSDT-1d-2018-2023.csv')"
   ]
  },
  {
   "cell_type": "code",
   "execution_count": 8,
   "metadata": {},
   "outputs": [
    {
     "name": "stderr",
     "output_type": "stream",
     "text": [
      "unzip:  cannot find or open BTCUSDT-1d-2023-02.zip, BTCUSDT-1d-2023-02.zip.zip or BTCUSDT-1d-2023-02.zip.ZIP.\n",
      "unzip:  cannot find or open BTCUSDT-1d-2023-03.zip, BTCUSDT-1d-2023-03.zip.zip or BTCUSDT-1d-2023-03.zip.ZIP.\n",
      "unzip:  cannot find or open BTCUSDT-1d-2023-04.zip, BTCUSDT-1d-2023-04.zip.zip or BTCUSDT-1d-2023-04.zip.ZIP.\n",
      "unzip:  cannot find or open BTCUSDT-1d-2023-05.zip, BTCUSDT-1d-2023-05.zip.zip or BTCUSDT-1d-2023-05.zip.ZIP.\n",
      "unzip:  cannot find or open BTCUSDT-1d-2023-06.zip, BTCUSDT-1d-2023-06.zip.zip or BTCUSDT-1d-2023-06.zip.ZIP.\n",
      "unzip:  cannot find or open BTCUSDT-1d-2023-07.zip, BTCUSDT-1d-2023-07.zip.zip or BTCUSDT-1d-2023-07.zip.ZIP.\n",
      "unzip:  cannot find or open BTCUSDT-1d-2023-08.zip, BTCUSDT-1d-2023-08.zip.zip or BTCUSDT-1d-2023-08.zip.ZIP.\n",
      "unzip:  cannot find or open BTCUSDT-1d-2023-09.zip, BTCUSDT-1d-2023-09.zip.zip or BTCUSDT-1d-2023-09.zip.ZIP.\n",
      "unzip:  cannot find or open BTCUSDT-1d-2023-10.zip, BTCUSDT-1d-2023-10.zip.zip or BTCUSDT-1d-2023-10.zip.ZIP.\n",
      "unzip:  cannot find or open BTCUSDT-1d-2023-11.zip, BTCUSDT-1d-2023-11.zip.zip or BTCUSDT-1d-2023-11.zip.ZIP.\n",
      "unzip:  cannot find or open BTCUSDT-1d-2023-12.zip, BTCUSDT-1d-2023-12.zip.zip or BTCUSDT-1d-2023-12.zip.ZIP.\n"
     ]
    }
   ],
   "source": [
    "# download, unzip, and then load into df\n",
    "if not file.is_file():   \n",
    "    \n",
    "    for x in year:\n",
    "        for y in month:\n",
    "           filename='BTCUSDT-1d-'+x+'-'+y\n",
    "           os.system('wget -nc -q \"https://data.binance.vision/data/spot/monthly/klines/BTCUSDT/1d/'+filename+'.zip\"')\n",
    "           os.system('unzip -n -q '+filename+'.zip')\n",
    "           df = pd.concat(map(functools.partial(pd.read_csv,header=None), glob.glob(\"*.csv\")))\n",
    "           \n",
    "    # clean up\n",
    "    os.system('rm -f *.csv *.zip')\n",
    "\n",
    "    #drop columns we don't need\n",
    "    \n",
    "    df.drop(df.columns[[6,7,8,9,10,11]], axis=1, inplace=True)\n",
    "\n",
    "    # label the columns\n",
    "    df.columns=('date', 'open', 'high', 'low', 'close', 'volume')\n",
    "    df.set_index('date', inplace=True)\n",
    "    df.index = pd.to_datetime(df.index, unit='ms')\n",
    "    # write csv file out:\n",
    "    df.to_csv(\"BTCUSDT-1d-2018-2023.csv\")"
   ]
  }
 ],
 "metadata": {
  "kernelspec": {
   "display_name": "Python 3",
   "language": "python",
   "name": "python3"
  },
  "language_info": {
   "codemirror_mode": {
    "name": "ipython",
    "version": 3
   },
   "file_extension": ".py",
   "mimetype": "text/x-python",
   "name": "python",
   "nbconvert_exporter": "python",
   "pygments_lexer": "ipython3",
   "version": "3.9.6"
  },
  "orig_nbformat": 4,
  "vscode": {
   "interpreter": {
    "hash": "31f2aee4e71d21fbe5cf8b01ff0e069b9275f58929596ceb00d14d90e3e16cd6"
   }
  }
 },
 "nbformat": 4,
 "nbformat_minor": 2
}
