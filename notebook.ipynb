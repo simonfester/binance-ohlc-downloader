{
 "cells": [
  {
   "attachments": {},
   "cell_type": "markdown",
   "metadata": {},
   "source": [
    "ta library testing - pulls all ohlc data from binance and runs all indicators!\n",
    "\n",
    "1) Downloads 1d OHLC data from Binance 2018-2022\n",
    "2) Loads into a Dataframe\n",
    "3) Adds all indicators\n",
    "4) Cleans up and exports a CSV\n",
    "\n",
    "\n",
    "https://github.com/binance/binance-public-data/\n",
    "https://technical-analysis-library-in-python.readthedocs.io/en/latest/\n"
   ]
  },
  {
   "cell_type": "code",
   "execution_count": 6,
   "metadata": {},
   "outputs": [],
   "source": [
    "import pandas as pd\n",
    "import functools\n",
    "from pathlib import Path\n",
    "import os.path\n",
    "import glob\n",
    "import os\n",
    "import btalib"
   ]
  },
  {
   "cell_type": "code",
   "execution_count": 7,
   "metadata": {},
   "outputs": [
    {
     "name": "stdout",
     "output_type": "stream",
     "text": [
      "Defaulting to user installation because normal site-packages is not writeable\n",
      "Requirement already satisfied: bta-lib in /Users/fester/Library/Python/3.9/lib/python/site-packages (1.0.0)\n",
      "Requirement already satisfied: pandas in /Users/fester/Library/Python/3.9/lib/python/site-packages (1.5.2)\n",
      "Requirement already satisfied: numpy>=1.20.3 in /Users/fester/Library/Python/3.9/lib/python/site-packages (from pandas) (1.24.1)\n",
      "Requirement already satisfied: pytz>=2020.1 in /Users/fester/Library/Python/3.9/lib/python/site-packages (from pandas) (2022.7)\n",
      "Requirement already satisfied: python-dateutil>=2.8.1 in /Users/fester/Library/Python/3.9/lib/python/site-packages (from pandas) (2.8.2)\n",
      "Requirement already satisfied: six>=1.5 in /Library/Developer/CommandLineTools/Library/Frameworks/Python3.framework/Versions/3.9/lib/python3.9/site-packages (from python-dateutil>=2.8.1->pandas) (1.15.0)\n"
     ]
    },
    {
     "data": {
      "text/plain": [
       "0"
      ]
     },
     "execution_count": 7,
     "metadata": {},
     "output_type": "execute_result"
    }
   ],
   "source": [
    "#install if needed\n",
    "os.system('pip3 install bta-lib pandas')"
   ]
  },
  {
   "cell_type": "code",
   "execution_count": 8,
   "metadata": {},
   "outputs": [],
   "source": [
    "# define our years and months\n",
    "year = ['2018','2019','2020','2021','2022']\n",
    "month = ['01','02','03','04','05','06','07','08','09','10','11','12']\n",
    "df_column_names = ['Date','Open','High','Low','Close','Volume']\n",
    "df=pd.DataFrame()\n",
    "file = Path('BTCUSDT-1d-2018-2022.csv')"
   ]
  },
  {
   "cell_type": "code",
   "execution_count": 9,
   "metadata": {},
   "outputs": [
    {
     "ename": "SyntaxError",
     "evalue": "unmatched ')' (2052485907.py, line 19)",
     "output_type": "error",
     "traceback": [
      "\u001b[0;36m  Cell \u001b[0;32mIn[9], line 19\u001b[0;36m\u001b[0m\n\u001b[0;31m    df.columns=['date', 'open', 'high', 'low', 'close', 'volume'])\u001b[0m\n\u001b[0m                                                                 ^\u001b[0m\n\u001b[0;31mSyntaxError\u001b[0m\u001b[0;31m:\u001b[0m unmatched ')'\n"
     ]
    }
   ],
   "source": [
    "# download, unzip, and then load into df\n",
    "if not file.is_file():   \n",
    "    \n",
    "    for x in year:\n",
    "        for y in month:\n",
    "           filename='BTCUSDT-1d-'+x+'-'+y\n",
    "           os.system('wget -nc -q \"https://data.binance.vision/data/spot/monthly/klines/BTCUSDT/1d/'+filename+'.zip\"')\n",
    "           os.system('unzip -n -q '+filename+'.zip')\n",
    "           df = pd.concat(map(functools.partial(pd.read_csv,header=None), glob.glob(\"*.csv\")))\n",
    "           \n",
    "    # clean up\n",
    "    os.system('rm -f *.csv *.zip')\n",
    "\n",
    "    #drop columns we don't need\n",
    "    \n",
    "    df.drop(df.columns[[6,7,8,9,10,11]], axis=1, inplace=True)\n",
    "\n",
    "    # label the columns\n",
    "    df.columns=('date', 'open', 'high', 'low', 'close', 'volume')\n",
    "    df.set_index('date', inplace=True)\n",
    "    df.index = pd.to_datetime(df.index, unit='ms')\n",
    "    # write csv file out:\n",
    "    df.to_csv(\"BTCUSDT-1d-2018-2022.csv\")"
   ]
  }
 ],
 "metadata": {
  "kernelspec": {
   "display_name": "Python 3",
   "language": "python",
   "name": "python3"
  },
  "language_info": {
   "codemirror_mode": {
    "name": "ipython",
    "version": 3
   },
   "file_extension": ".py",
   "mimetype": "text/x-python",
   "name": "python",
   "nbconvert_exporter": "python",
   "pygments_lexer": "ipython3",
   "version": "3.9.6"
  },
  "orig_nbformat": 4,
  "vscode": {
   "interpreter": {
    "hash": "31f2aee4e71d21fbe5cf8b01ff0e069b9275f58929596ceb00d14d90e3e16cd6"
   }
  }
 },
 "nbformat": 4,
 "nbformat_minor": 2
}
